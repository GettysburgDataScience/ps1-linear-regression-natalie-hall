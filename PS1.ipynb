{
 "cells": [
  {
   "cell_type": "markdown",
   "metadata": {},
   "source": [
    "Natalie Hall\n",
    "\n",
    " - Collaborator 1\n",
    " - Collaborator 2\n",
    " - etc"
   ]
  },
  {
   "cell_type": "markdown",
   "metadata": {},
   "source": [
    "DS325, Gettysburg College, Professor Eatai Roth\n",
    "# Problem Set 1 - Linear Regression\n",
    "\n",
    "Due Friday Feb 13, 2025 11:30a\n",
    "\n",
    "Total pts: 20\n",
    "\n",
    "## IMPORTANT INSTRUCTIONS:\n",
    "\n",
    " - When you submit your code, make sure that every cell runs without returning an error.\n",
    " - Once you have the results you need, edit out any extraneous code and outputs.\n",
    " - Do not rewrite code if it doesn't need to be rewritten. For example, all the import statements you should need are in the first code block. Do not redo those in your analysis."
   ]
  },
  {
   "cell_type": "markdown",
   "metadata": {},
   "source": [
    "## Problem 1\n",
    "\n",
    " - Fit a linear regression model to the following synthetic data.\n",
    " - Calculate R^2 and MSE for your best fit model."
   ]
  },
  {
   "cell_type": "code",
   "execution_count": 5,
   "metadata": {},
   "outputs": [],
   "source": [
    "import pandas as pd\n",
    "import numpy as np\n",
    "import sklearn as sk\n",
    "\n",
    "import matplotlib.pyplot as plt\n",
    "import seaborn as sns\n"
   ]
  },
  {
   "cell_type": "code",
   "execution_count": 6,
   "metadata": {},
   "outputs": [],
   "source": [
    "def print_model(bias, Theta, X_names, model_name = None):\n",
    "    # A function to print the equation of a linear model\n",
    "    if model_name is None:\n",
    "        model_str = f'y ='\n",
    "    else:\n",
    "        model_str = f'{model_name}:\\n y ='\n",
    "\n",
    "    if not bias==0:\n",
    "        model_str += f' {bias:.2f}'\n",
    "        \n",
    "    for theta, x in zip(Theta, X_names):\n",
    "        if theta==0:\n",
    "            continue\n",
    "        else:\n",
    "            model_str+= f' + {theta:.2f}*{x}'\n",
    "    print(model_str)"
   ]
  },
  {
   "cell_type": "markdown",
   "metadata": {},
   "source": [
    "import sklearn\n",
    "print(sklearn._version_)"
   ]
  },
  {
   "cell_type": "code",
   "execution_count": null,
   "metadata": {},
   "outputs": [],
   "source": []
  },
  {
   "cell_type": "code",
   "execution_count": 7,
   "metadata": {},
   "outputs": [
    {
     "data": {
      "text/html": [
       "<div>\n",
       "<style scoped>\n",
       "    .dataframe tbody tr th:only-of-type {\n",
       "        vertical-align: middle;\n",
       "    }\n",
       "\n",
       "    .dataframe tbody tr th {\n",
       "        vertical-align: top;\n",
       "    }\n",
       "\n",
       "    .dataframe thead th {\n",
       "        text-align: right;\n",
       "    }\n",
       "</style>\n",
       "<table border=\"1\" class=\"dataframe\">\n",
       "  <thead>\n",
       "    <tr style=\"text-align: right;\">\n",
       "      <th></th>\n",
       "      <th>x1</th>\n",
       "      <th>x2</th>\n",
       "      <th>x3</th>\n",
       "      <th>x4</th>\n",
       "      <th>x5</th>\n",
       "      <th>y</th>\n",
       "    </tr>\n",
       "  </thead>\n",
       "  <tbody>\n",
       "    <tr>\n",
       "      <th>0</th>\n",
       "      <td>0.441227</td>\n",
       "      <td>-0.330870</td>\n",
       "      <td>2.430771</td>\n",
       "      <td>-0.252092</td>\n",
       "      <td>0.109610</td>\n",
       "      <td>244.349429</td>\n",
       "    </tr>\n",
       "    <tr>\n",
       "      <th>1</th>\n",
       "      <td>1.582481</td>\n",
       "      <td>-0.909232</td>\n",
       "      <td>-0.591637</td>\n",
       "      <td>0.187603</td>\n",
       "      <td>-0.329870</td>\n",
       "      <td>-66.739816</td>\n",
       "    </tr>\n",
       "    <tr>\n",
       "      <th>2</th>\n",
       "      <td>-1.192765</td>\n",
       "      <td>-0.204877</td>\n",
       "      <td>-0.358829</td>\n",
       "      <td>0.603472</td>\n",
       "      <td>-1.664789</td>\n",
       "      <td>-154.409110</td>\n",
       "    </tr>\n",
       "    <tr>\n",
       "      <th>3</th>\n",
       "      <td>-0.700179</td>\n",
       "      <td>1.151391</td>\n",
       "      <td>1.857331</td>\n",
       "      <td>-1.511180</td>\n",
       "      <td>0.644848</td>\n",
       "      <td>194.236600</td>\n",
       "    </tr>\n",
       "    <tr>\n",
       "      <th>4</th>\n",
       "      <td>-0.980608</td>\n",
       "      <td>-0.856853</td>\n",
       "      <td>-0.871879</td>\n",
       "      <td>-0.422508</td>\n",
       "      <td>0.996440</td>\n",
       "      <td>-87.092471</td>\n",
       "    </tr>\n",
       "    <tr>\n",
       "      <th>...</th>\n",
       "      <td>...</td>\n",
       "      <td>...</td>\n",
       "      <td>...</td>\n",
       "      <td>...</td>\n",
       "      <td>...</td>\n",
       "      <td>...</td>\n",
       "    </tr>\n",
       "    <tr>\n",
       "      <th>295</th>\n",
       "      <td>0.423162</td>\n",
       "      <td>-0.988746</td>\n",
       "      <td>0.741750</td>\n",
       "      <td>1.130381</td>\n",
       "      <td>-0.189154</td>\n",
       "      <td>67.307896</td>\n",
       "    </tr>\n",
       "    <tr>\n",
       "      <th>296</th>\n",
       "      <td>-2.075862</td>\n",
       "      <td>-0.911934</td>\n",
       "      <td>0.037560</td>\n",
       "      <td>0.697767</td>\n",
       "      <td>-0.506700</td>\n",
       "      <td>-90.781843</td>\n",
       "    </tr>\n",
       "    <tr>\n",
       "      <th>297</th>\n",
       "      <td>1.006915</td>\n",
       "      <td>-0.513603</td>\n",
       "      <td>-1.360830</td>\n",
       "      <td>0.438510</td>\n",
       "      <td>-0.675455</td>\n",
       "      <td>-150.392513</td>\n",
       "    </tr>\n",
       "    <tr>\n",
       "      <th>298</th>\n",
       "      <td>1.310846</td>\n",
       "      <td>1.089519</td>\n",
       "      <td>-0.400579</td>\n",
       "      <td>-0.621525</td>\n",
       "      <td>0.217709</td>\n",
       "      <td>11.909130</td>\n",
       "    </tr>\n",
       "    <tr>\n",
       "      <th>299</th>\n",
       "      <td>1.133511</td>\n",
       "      <td>0.131756</td>\n",
       "      <td>-0.128005</td>\n",
       "      <td>1.075307</td>\n",
       "      <td>0.665557</td>\n",
       "      <td>49.345572</td>\n",
       "    </tr>\n",
       "  </tbody>\n",
       "</table>\n",
       "<p>300 rows × 6 columns</p>\n",
       "</div>"
      ],
      "text/plain": [
       "           x1        x2        x3        x4        x5           y\n",
       "0    0.441227 -0.330870  2.430771 -0.252092  0.109610  244.349429\n",
       "1    1.582481 -0.909232 -0.591637  0.187603 -0.329870  -66.739816\n",
       "2   -1.192765 -0.204877 -0.358829  0.603472 -1.664789 -154.409110\n",
       "3   -0.700179  1.151391  1.857331 -1.511180  0.644848  194.236600\n",
       "4   -0.980608 -0.856853 -0.871879 -0.422508  0.996440  -87.092471\n",
       "..        ...       ...       ...       ...       ...         ...\n",
       "295  0.423162 -0.988746  0.741750  1.130381 -0.189154   67.307896\n",
       "296 -2.075862 -0.911934  0.037560  0.697767 -0.506700  -90.781843\n",
       "297  1.006915 -0.513603 -1.360830  0.438510 -0.675455 -150.392513\n",
       "298  1.310846  1.089519 -0.400579 -0.621525  0.217709   11.909130\n",
       "299  1.133511  0.131756 -0.128005  1.075307  0.665557   49.345572\n",
       "\n",
       "[300 rows x 6 columns]"
      ]
     },
     "execution_count": 7,
     "metadata": {},
     "output_type": "execute_result"
    }
   ],
   "source": [
    "np.random.seed(15)\n",
    "bias = 20*np.random.randn()\n",
    "\n",
    "X, y, coef = sk.datasets.make_regression(n_samples=300, \n",
    "                                   n_features=5,    # n_features = 5 --> simple linear regression\n",
    "                                   noise=10, \n",
    "                                   bias = bias, \n",
    "                                   random_state=5, \n",
    "                                   shuffle = False, # samples will be in order\n",
    "                                   coef = True) \n",
    "\n",
    "column_names = [f'x{n+1}' for n in range(X.shape[1])]\n",
    "reg_df = pd.DataFrame(data = X, \n",
    "             columns = column_names)\n",
    "reg_df['y'] = y\n",
    "reg_df"
   ]
  },
  {
   "cell_type": "code",
   "execution_count": null,
   "metadata": {},
   "outputs": [
    {
     "ename": "AttributeError",
     "evalue": "'LinearRegression' object has no attribute '_dict_'",
     "output_type": "error",
     "traceback": [
      "\u001b[0;31m---------------------------------------------------------------------------\u001b[0m",
      "\u001b[0;31mAttributeError\u001b[0m                            Traceback (most recent call last)",
      "Cell \u001b[0;32mIn[16], line 20\u001b[0m\n\u001b[1;32m     17\u001b[0m MSE_train \u001b[38;5;241m=\u001b[39m mean_squared_error (y_train, y_pred_train)\n\u001b[1;32m     18\u001b[0m MSE_test\u001b[38;5;241m=\u001b[39m mean_squared_error (y_test, y_pred_test)\n\u001b[0;32m---> 20\u001b[0m model_1\u001b[38;5;241m.\u001b[39m_dict_\n\u001b[1;32m     22\u001b[0m \u001b[38;5;28mprint\u001b[39m (coef)\n\u001b[1;32m     23\u001b[0m \u001b[38;5;28mprint\u001b[39m (bias)\n",
      "\u001b[0;31mAttributeError\u001b[0m: 'LinearRegression' object has no attribute '_dict_'"
     ]
    }
   ],
   "source": [
    "from sklearn.model_selection import train_test_split\n",
    "from sklearn.linear_model import LinearRegression\n",
    "from sklearn.metrics import mean_squared_error\n",
    "#Splitting the data into training and testing sets\n",
    "X_train, X_test, y_train, y_test = train_test_split(X, y, test_size=0.2)\n",
    "\n",
    "# Create and fit model\n",
    "model_1 = LinearRegression()\n",
    "model_1. fit(X_train, y_train)\n",
    "\n",
    "y_pred_train = model_1. predict(X_train)\n",
    "y_pred_test = model_1. predict (X_test)\n",
    "\n",
    "R2_train = model_1. score(X_train, y_train)\n",
    "R2_test = model_1. score(X_test, y_test)\n",
    "\n",
    "MSE_train = mean_squared_error (y_train, y_pred_train)\n",
    "MSE_test= mean_squared_error (y_test, y_pred_test)\n",
    "\n",
    "model_1.__dict__\n",
    "\n",
    "print (coef)\n",
    "print (bias)\n",
    "\n"
   ]
  },
  {
   "cell_type": "markdown",
   "metadata": {},
   "source": [
    "#### Your written answers here\n",
    "\n",
    "What are your model parameters?\n",
    " - \n",
    "\n",
    "What were your MSE and R^2?\n",
    " - \n",
    "\n"
   ]
  },
  {
   "cell_type": "markdown",
   "metadata": {},
   "source": [
    "## Problem 2\n",
    "\n",
    "Multiple Regression with Synthetic Data and Co-linearity\n",
    "\n",
    " - Show the correlation matrix for the 10 variables and the target variable.\n",
    " - Fit a linear regression model to the following synthetic data.\n",
    " - Calculate R^2 and MSE for your best fit model."
   ]
  },
  {
   "cell_type": "code",
   "execution_count": null,
   "metadata": {},
   "outputs": [],
   "source": [
    "np.random.seed(15)\n",
    "bias = 50*np.random.randn()\n",
    "\n",
    "X, y, coef = sk.datasets.make_regression(n_samples=300, \n",
    "                                   n_features=9,    # n_features = 10 --> multiple linear regression\n",
    "                                   noise=3, \n",
    "                                   bias = bias, \n",
    "                                   n_informative = 6,\n",
    "                                   effective_rank = 6,\n",
    "                                   random_state=15, \n",
    "                                   shuffle = False, # samples will be in order\n",
    "                                   coef = True)\n",
    "\n",
    "Xa = (0.6*X[:, 2] + 0.4*X[:, 5]).reshape(-1, 1)\n",
    "X = np.hstack([X, Xa])\n",
    "coef = np.append(coef, 0)\n",
    "\n",
    "column_names = [f'x{n+1}' for n in range(X.shape[1])]\n",
    "reg2_df = pd.DataFrame(data = X, \n",
    "             columns = column_names)\n",
    "reg2_df['y'] = y\n",
    "\n",
    "print_model(bias, coef, column_names, model_name = 'True Model')"
   ]
  },
  {
   "cell_type": "markdown",
   "metadata": {},
   "source": [
    "#### Your written answers here\n",
    "\n",
    "What are your model parameters?\n",
    " - \n",
    "\n",
    "Which features (x1, x2...) were significant? Which were co-linear?\n",
    " - \n",
    " \n",
    "What were your MSE and R^2?\n",
    " - \n",
    "\n"
   ]
  },
  {
   "cell_type": "markdown",
   "metadata": {},
   "source": [
    "## Problem 3\n",
    "\n",
    "For this problem, you'll using housing data from King County, Washington (included as kc_housing.csv).\n",
    "\n",
    "You should refer to the class notebook."
   ]
  },
  {
   "cell_type": "code",
   "execution_count": null,
   "metadata": {},
   "outputs": [],
   "source": [
    "housing_df = pd.read_csv('kc_house_data.csv')"
   ]
  },
  {
   "cell_type": "markdown",
   "metadata": {},
   "source": [
    "### a. \n",
    "\n",
    "**Do this part before part b and then don't go back and change your responses.**\n",
    "\n",
    "- Select three features to use for a multiple linear regression and justify your choices.\n",
    "- Use the StandardScalar to scale your features. Fit a linear regression using those three features. What is your $R^2$?\n",
    "- Plot predicted home values and actual home values, including a line representing perfect prediction.\n"
   ]
  },
  {
   "cell_type": "code",
   "execution_count": null,
   "metadata": {},
   "outputs": [],
   "source": [
    "corr = "
   ]
  },
  {
   "cell_type": "code",
   "execution_count": null,
   "metadata": {},
   "outputs": [],
   "source": []
  },
  {
   "cell_type": "code",
   "execution_count": null,
   "metadata": {},
   "outputs": [],
   "source": [
    "from sklearn.preprocessing import StandardScaler\n",
    "\n",
    "ss = StandardScaler()\n",
    "ss.fit(X_train)\n",
    "\n",
    "X_scaled_train = ss.transform(X_train)\n",
    "X_scaled_test = ss.transform(X_test)"
   ]
  },
  {
   "cell_type": "code",
   "execution_count": null,
   "metadata": {},
   "outputs": [],
   "source": [
    "from sklearn.linear_model import Lasso, Ridge \n",
    "\n",
    "# y = housing_df[['price']]\n",
    "X = housing_df.drop(columns=['price'])\n",
    "\n"
   ]
  },
  {
   "cell_type": "markdown",
   "metadata": {},
   "source": []
  },
  {
   "cell_type": "markdown",
   "metadata": {},
   "source": [
    "#### Your written answers here\n",
    "Which features are you using and why?\n",
    " \n",
    " - Your written answer here."
   ]
  },
  {
   "cell_type": "markdown",
   "metadata": {},
   "source": [
    "### b. \n",
    "- Create a training and testing data using all the features except for price (that's the target), date, and zipcode. Once you have the dataframe of your features, save a list of column labels, ```feature_names = x.columns```.\n",
    "- Use Lasso or Ridge regression to fit the model and calculate the $R^2$. Play around with $\\alpha$ until you get $R^2 > 0.65$. Keep in mind that price is in the range of \\$100k-3M and the scaled features will be in the range of -2 to 2, so $\\alpha$ should be a big number.\n",
    "- Get the coefficients of the Ridge or Lasso model; their order corresponds to the feature labels you saved earlier. Find the 3 biggest (absolute value) coefficients. Which features are they? Look up ```np.argsort()```; this function returns the indices of a list once it's been sorted. \n",
    "- Plot predicted vs actual home prices for the regularized model. "
   ]
  },
  {
   "cell_type": "code",
   "execution_count": null,
   "metadata": {},
   "outputs": [],
   "source": [
    "from sklearn.linear_model import Lasso, Ridge \n",
    "\n",
    "# y = housing_df[['price']]\n",
    "X = housing_df.drop(columns=['price'])\n",
    "\n",
    "X_train, X_test, y_train, y_test = train_test_split(X, y, test_size=0.2)\n",
    "ss = StandardScaler()\n",
    "\n",
    "#missing spots \n",
    "model_lasso = Lasso(alpha=0.5)\n",
    "model_lasso.fit(X_scaled_train, y_train)"
   ]
  },
  {
   "cell_type": "markdown",
   "metadata": {},
   "source": [
    "### Your written answers here\n",
    "Which regression did you use?\n",
    " - Your answer\n",
    "\n",
    "Does your regularized model look better than your MLR? How so?\n",
    " - Your answer"
   ]
  },
  {
   "cell_type": "markdown",
   "metadata": {},
   "source": [
    "### c.\n",
    "It seems that our model over-valuates houses in the higher price range.\n",
    " - Split the data into homes below and above $1M sale price. \n",
    " - Fit a Lasso or Ridge model to each of the split data sets.\n",
    " - Plot predicted vs actual."
   ]
  },
  {
   "cell_type": "markdown",
   "metadata": {},
   "source": [
    "<Your written answers>"
   ]
  },
  {
   "cell_type": "code",
   "execution_count": null,
   "metadata": {},
   "outputs": [],
   "source": [
    "# Your code here. Add cells as needed."
   ]
  },
  {
   "cell_type": "markdown",
   "metadata": {},
   "source": [
    " ### Your written answers here\n",
    "\n",
    " What are the $R^2$ for the two models?\n",
    "\n",
    "  - Your answer\n",
    " \n"
   ]
  }
 ],
 "metadata": {
  "kernelspec": {
   "display_name": "base",
   "language": "python",
   "name": "python3"
  },
  "language_info": {
   "codemirror_mode": {
    "name": "ipython",
    "version": 3
   },
   "file_extension": ".py",
   "mimetype": "text/x-python",
   "name": "python",
   "nbconvert_exporter": "python",
   "pygments_lexer": "ipython3",
   "version": "3.12.4"
  },
  "orig_nbformat": 4
 },
 "nbformat": 4,
 "nbformat_minor": 2
}
